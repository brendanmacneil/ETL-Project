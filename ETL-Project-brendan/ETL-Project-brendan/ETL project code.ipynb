{
 "cells": [
  {
   "cell_type": "code",
   "execution_count": 146,
   "metadata": {},
   "outputs": [],
   "source": [
    "import pandas as pd\n",
    "from sqlalchemy import create_engine\n",
    "import pymysql\n",
    "pymysql.install_as_MySQLdb()"
   ]
  },
  {
   "cell_type": "code",
   "execution_count": 147,
   "metadata": {},
   "outputs": [
    {
     "data": {
      "text/html": [
       "<div>\n",
       "<style scoped>\n",
       "    .dataframe tbody tr th:only-of-type {\n",
       "        vertical-align: middle;\n",
       "    }\n",
       "\n",
       "    .dataframe tbody tr th {\n",
       "        vertical-align: top;\n",
       "    }\n",
       "\n",
       "    .dataframe thead th {\n",
       "        text-align: right;\n",
       "    }\n",
       "</style>\n",
       "<table border=\"1\" class=\"dataframe\">\n",
       "  <thead>\n",
       "    <tr style=\"text-align: right;\">\n",
       "      <th></th>\n",
       "      <th>cds</th>\n",
       "      <th>Ccode</th>\n",
       "      <th>CDcode</th>\n",
       "      <th>Scode</th>\n",
       "      <th>rtype</th>\n",
       "      <th>sname</th>\n",
       "      <th>dname</th>\n",
       "      <th>cname</th>\n",
       "      <th>enroll12</th>\n",
       "      <th>NumTstTakr</th>\n",
       "      <th>NumCurrElaBenchmark</th>\n",
       "      <th>NumPreElaBenchmark</th>\n",
       "      <th>TotNumElaBenchmark</th>\n",
       "      <th>PctElaBenchmark</th>\n",
       "      <th>NumCurrMathBenchmark</th>\n",
       "      <th>NumPreMathBenchmark</th>\n",
       "      <th>TotNumMathBenchmark</th>\n",
       "      <th>PctMathBenchmark</th>\n",
       "      <th>TotNumBothBenchmark</th>\n",
       "      <th>PctBothBenchmark</th>\n",
       "    </tr>\n",
       "  </thead>\n",
       "  <tbody>\n",
       "    <tr>\n",
       "      <th>0</th>\n",
       "      <td>0</td>\n",
       "      <td>0</td>\n",
       "      <td>0</td>\n",
       "      <td>0</td>\n",
       "      <td>X</td>\n",
       "      <td>NaN</td>\n",
       "      <td>NaN</td>\n",
       "      <td>NaN</td>\n",
       "      <td>484169</td>\n",
       "      <td>221433</td>\n",
       "      <td>144893</td>\n",
       "      <td>15103</td>\n",
       "      <td>159996</td>\n",
       "      <td>72.25</td>\n",
       "      <td>98504</td>\n",
       "      <td>13887</td>\n",
       "      <td>112391</td>\n",
       "      <td>50.76</td>\n",
       "      <td>107173</td>\n",
       "      <td>48.40</td>\n",
       "    </tr>\n",
       "    <tr>\n",
       "      <th>1</th>\n",
       "      <td>1000000000000</td>\n",
       "      <td>1</td>\n",
       "      <td>100000</td>\n",
       "      <td>0</td>\n",
       "      <td>C</td>\n",
       "      <td>NaN</td>\n",
       "      <td>NaN</td>\n",
       "      <td>Alameda</td>\n",
       "      <td>16638</td>\n",
       "      <td>9029</td>\n",
       "      <td>5407</td>\n",
       "      <td>1376</td>\n",
       "      <td>6783</td>\n",
       "      <td>75.12</td>\n",
       "      <td>4033</td>\n",
       "      <td>1337</td>\n",
       "      <td>5370</td>\n",
       "      <td>59.48</td>\n",
       "      <td>5147</td>\n",
       "      <td>57.01</td>\n",
       "    </tr>\n",
       "    <tr>\n",
       "      <th>2</th>\n",
       "      <td>1100170000000</td>\n",
       "      <td>1</td>\n",
       "      <td>110017</td>\n",
       "      <td>0</td>\n",
       "      <td>D</td>\n",
       "      <td>NaN</td>\n",
       "      <td>Alameda County Office of Education</td>\n",
       "      <td>Alameda</td>\n",
       "      <td>253</td>\n",
       "      <td>83</td>\n",
       "      <td>28</td>\n",
       "      <td>0</td>\n",
       "      <td>28</td>\n",
       "      <td>33.73</td>\n",
       "      <td>9</td>\n",
       "      <td>0</td>\n",
       "      <td>9</td>\n",
       "      <td>10.84</td>\n",
       "      <td>9</td>\n",
       "      <td>10.84</td>\n",
       "    </tr>\n",
       "    <tr>\n",
       "      <th>3</th>\n",
       "      <td>1100170112607</td>\n",
       "      <td>1</td>\n",
       "      <td>110017</td>\n",
       "      <td>112607</td>\n",
       "      <td>S</td>\n",
       "      <td>Envision Academy for Arts &amp; Technology</td>\n",
       "      <td>Alameda County Office of Education</td>\n",
       "      <td>Alameda</td>\n",
       "      <td>81</td>\n",
       "      <td>83</td>\n",
       "      <td>28</td>\n",
       "      <td>0</td>\n",
       "      <td>28</td>\n",
       "      <td>33.73</td>\n",
       "      <td>9</td>\n",
       "      <td>0</td>\n",
       "      <td>9</td>\n",
       "      <td>10.84</td>\n",
       "      <td>9</td>\n",
       "      <td>10.84</td>\n",
       "    </tr>\n",
       "    <tr>\n",
       "      <th>4</th>\n",
       "      <td>1611190000000</td>\n",
       "      <td>1</td>\n",
       "      <td>161119</td>\n",
       "      <td>0</td>\n",
       "      <td>D</td>\n",
       "      <td>NaN</td>\n",
       "      <td>Alameda Unified</td>\n",
       "      <td>Alameda</td>\n",
       "      <td>910</td>\n",
       "      <td>495</td>\n",
       "      <td>373</td>\n",
       "      <td>51</td>\n",
       "      <td>424</td>\n",
       "      <td>85.66</td>\n",
       "      <td>298</td>\n",
       "      <td>47</td>\n",
       "      <td>345</td>\n",
       "      <td>69.70</td>\n",
       "      <td>330</td>\n",
       "      <td>66.67</td>\n",
       "    </tr>\n",
       "  </tbody>\n",
       "</table>\n",
       "</div>"
      ],
      "text/plain": [
       "             cds  Ccode  CDcode   Scode rtype  \\\n",
       "0              0      0       0       0     X   \n",
       "1  1000000000000      1  100000       0     C   \n",
       "2  1100170000000      1  110017       0     D   \n",
       "3  1100170112607      1  110017  112607     S   \n",
       "4  1611190000000      1  161119       0     D   \n",
       "\n",
       "                                    sname                               dname  \\\n",
       "0                                     NaN                                 NaN   \n",
       "1                                     NaN                                 NaN   \n",
       "2                                     NaN  Alameda County Office of Education   \n",
       "3  Envision Academy for Arts & Technology  Alameda County Office of Education   \n",
       "4                                     NaN                     Alameda Unified   \n",
       "\n",
       "     cname  enroll12  NumTstTakr NumCurrElaBenchmark NumPreElaBenchmark  \\\n",
       "0      NaN    484169      221433              144893              15103   \n",
       "1  Alameda     16638        9029                5407               1376   \n",
       "2  Alameda       253          83                  28                  0   \n",
       "3  Alameda        81          83                  28                  0   \n",
       "4  Alameda       910         495                 373                 51   \n",
       "\n",
       "  TotNumElaBenchmark PctElaBenchmark NumCurrMathBenchmark NumPreMathBenchmark  \\\n",
       "0             159996           72.25                98504               13887   \n",
       "1               6783           75.12                 4033                1337   \n",
       "2                 28           33.73                    9                   0   \n",
       "3                 28           33.73                    9                   0   \n",
       "4                424           85.66                  298                  47   \n",
       "\n",
       "  TotNumMathBenchmark PctMathBenchmark TotNumBothBenchmark PctBothBenchmark  \n",
       "0              112391            50.76              107173            48.40  \n",
       "1                5370            59.48                5147            57.01  \n",
       "2                   9            10.84                   9            10.84  \n",
       "3                   9            10.84                   9            10.84  \n",
       "4                 345            69.70                 330            66.67  "
      ]
     },
     "execution_count": 147,
     "metadata": {},
     "output_type": "execute_result"
    }
   ],
   "source": [
    "sat17 = \"sat17.csv\"\n",
    "sat17_df = pd.read_csv(sat17)\n",
    "sat17_df.head()"
   ]
  },
  {
   "cell_type": "code",
   "execution_count": 148,
   "metadata": {
    "scrolled": true
   },
   "outputs": [],
   "source": [
    "county_file = \"Income by county.csv\"\n",
    "county_file_df = pd.read_csv(county_file)\n",
    "county_file_df.head()\n",
    "county_file_df = county_file_df.replace({'Geography': r' County, California$'}, {'Geography': ''}, regex=True)"
   ]
  },
  {
   "cell_type": "code",
   "execution_count": 149,
   "metadata": {},
   "outputs": [],
   "source": [
    " # Create a filtered dataframe from specific columns\n",
    "sat17_cols = [\"cname\", \"TotNumBothBenchmark\", \"PctBothBenchmark\"]\n",
    "sat17_transformed= sat17_df[sat17_cols].copy()"
   ]
  },
  {
   "cell_type": "code",
   "execution_count": 150,
   "metadata": {},
   "outputs": [],
   "source": [
    "# Rename the column headers\n",
    "sat17_transformed = sat17_transformed.rename(columns={\"cname\": \"County\",\n",
    "                                                          \"TotNumBothBenchmark\":\"total_number_benchmark\" ,\n",
    "                                                          \"PctBothBenchmark\": \"percentage_benchmark\"})"
   ]
  },
  {
   "cell_type": "code",
   "execution_count": 151,
   "metadata": {},
   "outputs": [
    {
     "data": {
      "text/html": [
       "<div>\n",
       "<style scoped>\n",
       "    .dataframe tbody tr th:only-of-type {\n",
       "        vertical-align: middle;\n",
       "    }\n",
       "\n",
       "    .dataframe tbody tr th {\n",
       "        vertical-align: top;\n",
       "    }\n",
       "\n",
       "    .dataframe thead th {\n",
       "        text-align: right;\n",
       "    }\n",
       "</style>\n",
       "<table border=\"1\" class=\"dataframe\">\n",
       "  <thead>\n",
       "    <tr style=\"text-align: right;\">\n",
       "      <th></th>\n",
       "      <th>County</th>\n",
       "      <th>total_number_benchmark</th>\n",
       "      <th>percentage_benchmark</th>\n",
       "    </tr>\n",
       "  </thead>\n",
       "  <tbody>\n",
       "    <tr>\n",
       "      <th>0</th>\n",
       "      <td>NaN</td>\n",
       "      <td>107173</td>\n",
       "      <td>48.40</td>\n",
       "    </tr>\n",
       "    <tr>\n",
       "      <th>1</th>\n",
       "      <td>Alameda</td>\n",
       "      <td>5147</td>\n",
       "      <td>57.01</td>\n",
       "    </tr>\n",
       "    <tr>\n",
       "      <th>2</th>\n",
       "      <td>Alameda</td>\n",
       "      <td>9</td>\n",
       "      <td>10.84</td>\n",
       "    </tr>\n",
       "    <tr>\n",
       "      <th>3</th>\n",
       "      <td>Alameda</td>\n",
       "      <td>9</td>\n",
       "      <td>10.84</td>\n",
       "    </tr>\n",
       "    <tr>\n",
       "      <th>4</th>\n",
       "      <td>Alameda</td>\n",
       "      <td>330</td>\n",
       "      <td>66.67</td>\n",
       "    </tr>\n",
       "  </tbody>\n",
       "</table>\n",
       "</div>"
      ],
      "text/plain": [
       "    County total_number_benchmark percentage_benchmark\n",
       "0      NaN                 107173                48.40\n",
       "1  Alameda                   5147                57.01\n",
       "2  Alameda                      9                10.84\n",
       "3  Alameda                      9                10.84\n",
       "4  Alameda                    330                66.67"
      ]
     },
     "execution_count": 151,
     "metadata": {},
     "output_type": "execute_result"
    }
   ],
   "source": [
    "# Clean the data by dropping duplicates and setting the index\n",
    "#sat17_transformed.drop_duplicates(\"id\", inplace=True)\n",
    "#sat17_transformed.set_index(\"id\", inplace=True)\n",
    "#This was not needed\n",
    "sat17_transformed.head()"
   ]
  },
  {
   "cell_type": "code",
   "execution_count": 152,
   "metadata": {},
   "outputs": [],
   "source": [
    "# Create a filtered dataframe from specific columns\n",
    "county_cols = [\"Geography\", \"Households; Estimate; Total\", \"Nonfamily households; Estimate; Mean income (dollars)\"]\n",
    "county_transformed = county_file_df[county_cols].copy()"
   ]
  },
  {
   "cell_type": "code",
   "execution_count": 153,
   "metadata": {
    "scrolled": true
   },
   "outputs": [
    {
     "data": {
      "text/html": [
       "<div>\n",
       "<style scoped>\n",
       "    .dataframe tbody tr th:only-of-type {\n",
       "        vertical-align: middle;\n",
       "    }\n",
       "\n",
       "    .dataframe tbody tr th {\n",
       "        vertical-align: top;\n",
       "    }\n",
       "\n",
       "    .dataframe thead th {\n",
       "        text-align: right;\n",
       "    }\n",
       "</style>\n",
       "<table border=\"1\" class=\"dataframe\">\n",
       "  <thead>\n",
       "    <tr style=\"text-align: right;\">\n",
       "      <th></th>\n",
       "      <th>County</th>\n",
       "      <th>Households; Estimate; Total</th>\n",
       "      <th>mean_income</th>\n",
       "    </tr>\n",
       "  </thead>\n",
       "  <tbody>\n",
       "    <tr>\n",
       "      <th>0</th>\n",
       "      <td>Alameda</td>\n",
       "      <td>569070</td>\n",
       "      <td>73298</td>\n",
       "    </tr>\n",
       "    <tr>\n",
       "      <th>1</th>\n",
       "      <td>Alpine</td>\n",
       "      <td>304</td>\n",
       "      <td>47028</td>\n",
       "    </tr>\n",
       "    <tr>\n",
       "      <th>2</th>\n",
       "      <td>Amador</td>\n",
       "      <td>14185</td>\n",
       "      <td>39939</td>\n",
       "    </tr>\n",
       "    <tr>\n",
       "      <th>3</th>\n",
       "      <td>Butte</td>\n",
       "      <td>86167</td>\n",
       "      <td>41019</td>\n",
       "    </tr>\n",
       "    <tr>\n",
       "      <th>4</th>\n",
       "      <td>Calaveras</td>\n",
       "      <td>17812</td>\n",
       "      <td>43678</td>\n",
       "    </tr>\n",
       "  </tbody>\n",
       "</table>\n",
       "</div>"
      ],
      "text/plain": [
       "      County  Households; Estimate; Total  mean_income\n",
       "0    Alameda                       569070        73298\n",
       "1     Alpine                          304        47028\n",
       "2     Amador                        14185        39939\n",
       "3      Butte                        86167        41019\n",
       "4  Calaveras                        17812        43678"
      ]
     },
     "execution_count": 153,
     "metadata": {},
     "output_type": "execute_result"
    }
   ],
   "source": [
    "# Rename the column headers\n",
    "county_transformed = county_transformed.rename(columns={\"Geography\": \"County\",\n",
    "                                                         \"Households; Estimate; Total\": \"Households; Estimate; Total\",\n",
    "                                                         \"Nonfamily households; Estimate; Mean income (dollars)\": \"mean_income\"})\n",
    "\n",
    "# Set index\n",
    "#county_transformed.set_index(\"id\", inplace=True)\n",
    "\n",
    "county_transformed.head()"
   ]
  },
  {
   "cell_type": "code",
   "execution_count": 154,
   "metadata": {},
   "outputs": [],
   "source": [
    "#Creation of a new database\n",
    "connection_string = \"root:tummyfloor@localhost/\"\n",
    "engine = create_engine(f'mysql://{connection_string}')\n",
    "\n",
    "connection = engine.connect()"
   ]
  },
  {
   "cell_type": "code",
   "execution_count": 155,
   "metadata": {},
   "outputs": [
    {
     "data": {
      "text/plain": [
       "<sqlalchemy.engine.result.ResultProxy at 0x1b426dc8518>"
      ]
     },
     "execution_count": 155,
     "metadata": {},
     "output_type": "execute_result"
    }
   ],
   "source": [
    "connection.execute('create schema sat_income_db')"
   ]
  },
  {
   "cell_type": "code",
   "execution_count": 156,
   "metadata": {},
   "outputs": [
    {
     "data": {
      "text/plain": [
       "[]"
      ]
     },
     "execution_count": 156,
     "metadata": {},
     "output_type": "execute_result"
    }
   ],
   "source": [
    "db_connection = \"root:tummyfloor@localhost/sat_income_db\"\n",
    "db_engine = create_engine(f'mysql://{db_connection}')\n",
    "\n",
    "#confirm tables\n",
    "db_engine.table_names()"
   ]
  },
  {
   "cell_type": "code",
   "execution_count": 157,
   "metadata": {
    "scrolled": false
   },
   "outputs": [],
   "source": [
    "sat17_transformed.to_sql(name= 'SAT17', con = db_engine, if_exists= 'append', index=True)"
   ]
  },
  {
   "cell_type": "code",
   "execution_count": 158,
   "metadata": {},
   "outputs": [],
   "source": [
    "county_transformed.to_sql(name='CountyIncome', con=db_engine, if_exists='append', index=True) "
   ]
  },
  {
   "cell_type": "code",
   "execution_count": 159,
   "metadata": {},
   "outputs": [
    {
     "data": {
      "text/plain": [
       "['countyincome', 'sat17']"
      ]
     },
     "execution_count": 159,
     "metadata": {},
     "output_type": "execute_result"
    }
   ],
   "source": [
    "db_engine.table_names()"
   ]
  },
  {
   "cell_type": "code",
   "execution_count": 160,
   "metadata": {},
   "outputs": [],
   "source": [
    "result = db_engine.execute('select countyincome.county, countyincome.mean_income as \"Mean Income\", sat17.total_number_benchmark, sat17.percentage_benchmark \\\n",
    "from countyincome inner join sat17 ON countyincome.county = sat17.county group by sat17.County;').fetchall()"
   ]
  },
  {
   "cell_type": "code",
   "execution_count": 161,
   "metadata": {},
   "outputs": [
    {
     "data": {
      "text/plain": [
       "[('Alameda', 73298, '5147', '57.01'),\n",
       " ('Alpine', 47028, None, None),\n",
       " ('Amador', 39939, '75', '72.12'),\n",
       " ('Butte', 41019, '436', '63.56'),\n",
       " ('Calaveras', 43678, '92', '69.70'),\n",
       " ('Colusa', 44955, '47', '40.87'),\n",
       " ('Contra Costa', 72354, '3543', '55.08'),\n",
       " ('Del Norte', 37519, '40', '65.57'),\n",
       " ('El Dorado', 56048, '803', '79.50'),\n",
       " ('Fresno', 45987, '2308', '31.98'),\n",
       " ('Glenn', 32669, '45', '34.62'),\n",
       " ('Humboldt', 39122, '256', '60.95'),\n",
       " ('Imperial', 36964, '380', '42.13'),\n",
       " ('Inyo', 44227, '41', '36.94'),\n",
       " ('Kern', 47741, '1839', '39.62'),\n",
       " ('Kings', 55963, '209', '33.71'),\n",
       " ('Lake', 36757, '83', '40.69'),\n",
       " ('Lassen', 46349, '48', '50.53'),\n",
       " ('Los Angeles', 65092, '24427', '39.20'),\n",
       " ('Madera', 45518, '215', '29.09'),\n",
       " ('Marin', 97009, '739', '69.32'),\n",
       " ('Mariposa', 41680, '26', '68.42'),\n",
       " ('Mendocino', 49952, '149', '51.74'),\n",
       " ('Merced', 43786, '515', '33.35'),\n",
       " ('Modoc', 31760, '22', '59.46'),\n",
       " ('Mono', 57955, '28', '56.00'),\n",
       " ('Monterey', 62313, '748', '38.22'),\n",
       " ('Napa', 73157, '384', '49.87'),\n",
       " ('Nevada', 56175, '204', '72.60'),\n",
       " ('Orange', 73883, '11738', '59.77'),\n",
       " ('Placer', 63696, '2003', '69.31'),\n",
       " ('Plumas', 48984, '45', '65.22'),\n",
       " ('Riverside', 51581, '6385', '37.56'),\n",
       " ('Sacramento', 55861, '4043', '50.30'),\n",
       " ('San Benito', 67323, '137', '48.58'),\n",
       " ('San Bernardino', 47793, '5448', '41.08'),\n",
       " ('San Diego', 67252, '10535', '58.04'),\n",
       " ('San Francisco', 111866, '1571', '56.19'),\n",
       " ('San Joaquin', 48244, '1745', '45.14'),\n",
       " ('San Luis Obispo', 55596, '686', '66.28'),\n",
       " ('San Mateo', 93443, '2365', '67.92'),\n",
       " ('Santa Barbara', 68106, '1028', '57.82'),\n",
       " ('Santa Clara', 94643, '7297', '67.37'),\n",
       " ('Santa Cruz', 66821, '687', '57.20'),\n",
       " ('Shasta', 40442, '413', '72.08'),\n",
       " ('Sierra', 29782, '*', '*'),\n",
       " ('Siskiyou', 37531, '90', '53.89'),\n",
       " ('Solano', 59248, '935', '52.15'),\n",
       " ('Sonoma', 62944, '1180', '63.14'),\n",
       " ('Stanislaus', 46105, '1290', '44.12'),\n",
       " ('Sutter', 47791, '255', '53.91'),\n",
       " ('Tehama', 34788, '58', '50.00'),\n",
       " ('Trinity', 33753, '19', '46.34'),\n",
       " ('Tulare', 42126, '823', '37.51'),\n",
       " ('Tuolumne', 51995, '88', '70.97'),\n",
       " ('Ventura', 69327, '2536', '61.12'),\n",
       " ('Yolo', 49730, '658', '64.32'),\n",
       " ('Yuba', 44552, '117', '53.67')]"
      ]
     },
     "execution_count": 161,
     "metadata": {},
     "output_type": "execute_result"
    }
   ],
   "source": [
    "result"
   ]
  },
  {
   "cell_type": "code",
   "execution_count": 162,
   "metadata": {
    "scrolled": false
   },
   "outputs": [
    {
     "data": {
      "text/plain": [
       "<sqlalchemy.engine.result.ResultProxy at 0x1b426fc1550>"
      ]
     },
     "execution_count": 162,
     "metadata": {},
     "output_type": "execute_result"
    }
   ],
   "source": [
    "db_engine.execute(\"CREATE TABLE sat_to_income (county VARCHAR(255), mean_income VARCHAR(255), total_number_benchmark VARCHAR(255), percentage_benchmark VARCHAR(255))\")"
   ]
  },
  {
   "cell_type": "code",
   "execution_count": 163,
   "metadata": {},
   "outputs": [
    {
     "data": {
      "text/plain": [
       "<sqlalchemy.engine.result.ResultProxy at 0x1b426fc37b8>"
      ]
     },
     "execution_count": 163,
     "metadata": {},
     "output_type": "execute_result"
    }
   ],
   "source": [
    "sql = \"INSERT INTO sat_to_income (county, mean_income, total_number_benchmark, percentage_benchmark) VALUES (%s, %s,%s, %s)\"\n",
    "db_engine.execute(sql, result)"
   ]
  },
  {
   "cell_type": "code",
   "execution_count": null,
   "metadata": {},
   "outputs": [],
   "source": []
  },
  {
   "cell_type": "code",
   "execution_count": null,
   "metadata": {},
   "outputs": [],
   "source": []
  }
 ],
 "metadata": {
  "kernelspec": {
   "display_name": "Python 3",
   "language": "python",
   "name": "python3"
  },
  "language_info": {
   "codemirror_mode": {
    "name": "ipython",
    "version": 3
   },
   "file_extension": ".py",
   "mimetype": "text/x-python",
   "name": "python",
   "nbconvert_exporter": "python",
   "pygments_lexer": "ipython3",
   "version": "3.7.1"
  }
 },
 "nbformat": 4,
 "nbformat_minor": 2
}
