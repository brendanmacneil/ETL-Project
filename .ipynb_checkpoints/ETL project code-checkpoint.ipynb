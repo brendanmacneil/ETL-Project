{
 "cells": [
  {
   "cell_type": "code",
   "execution_count": null,
   "metadata": {},
   "outputs": [],
   "source": [
    "import pandas as pd\n",
    "from sqlalchemy import create_engine\n",
    "import pymysql\n",
    "pymysql.install_as_MySQLdb()"
   ]
  },
  {
   "cell_type": "code",
   "execution_count": null,
   "metadata": {},
   "outputs": [],
   "source": [
    "premise_file = \"../Resources/LicensePremise.csv\"\n",
    "premise_file_df = pd.read_csv(premise_file)\n",
    "premise_file_df.head()"
   ]
  },
  {
   "cell_type": "code",
   "execution_count": null,
   "metadata": {},
   "outputs": [],
   "source": [
    "county_file = \"../Resources/CountyLicenseCount.csv\"\n",
    "county_file_df =pd.read_csv(county_file)\n",
    "county_file_df.head()"
   ]
  },
  {
   "cell_type": "code",
   "execution_count": null,
   "metadata": {},
   "outputs": [],
   "source": [
    " # Create a filtered dataframe from specific columns\n",
    "premise_cols = [\"License Serial Number\", \"Premises Name\", \"County ID Code\"]\n",
    "premise_transformed= premise_df[premise_cols].copy()\n",
    "\n",
    "# Rename the column headers\n",
    "premise_transformed = premise_transformed.rename(columns={\"License Serial Number\": \"id\",\n",
    "                                                          \"Premises Name\": \"premise_name\",\n",
    "                                                          \"County ID Code\": \"county_id\"})\n",
    "\n",
    "# Clean the data by dropping duplicates and setting the index\n",
    "premise_transformed.drop_duplicates(\"id\", inplace=True)\n",
    "premise_transformed.set_index(\"id\", inplace=True)\n",
    "\n",
    "premise_transformed.head()"
   ]
  },
  {
   "cell_type": "code",
   "execution_count": null,
   "metadata": {},
   "outputs": [],
   "source": [
    "county_cols = [\"ID\", \"County Name (Licensee)\", \"County ID Code\", \"License Count\"]\n",
    "county_transformed = county_df[county_cols].copy()\n",
    "\n",
    "# Rename the column headers\n",
    "county_transformed = county_transformed.rename(columns={\"ID\": \"id\",\n",
    "                                                         \"County Name (Licensee)\": \"county_name\",\n",
    "                                                         \"License Count\": \"license_count\",\n",
    "                                                         \"County ID Code\": \"county_id\"})\n",
    "\n",
    "# Set index\n",
    "county_transformed.set_index(\"id\", inplace=True)\n",
    "\n",
    "county_transformed.head()"
   ]
  },
  {
   "cell_type": "code",
   "execution_count": null,
   "metadata": {},
   "outputs": [],
   "source": [
    "connection_string = \"root:BMac32185@localhost/\"\n",
    "engine = create_engine(f'mysql://{connection_string}')\n",
    "\n",
    "connection = engine.connect()"
   ]
  },
  {
   "cell_type": "code",
   "execution_count": null,
   "metadata": {},
   "outputs": [],
   "source": [
    "connection.execute('create schema new_db')"
   ]
  },
  {
   "cell_type": "code",
   "execution_count": null,
   "metadata": {},
   "outputs": [],
   "source": [
    "db_[] = \"root:BMac32185@localhost/new_db\"\n",
    "db_engine = create_engine(f'mysql://{}')\n",
    "\n",
    "#confirm tables\n",
    "db_engine.table_names()"
   ]
  },
  {
   "cell_type": "code",
   "execution_count": null,
   "metadata": {},
   "outputs": [],
   "source": [
    "[]"
   ]
  },
  {
   "cell_type": "code",
   "execution_count": null,
   "metadata": {},
   "outputs": [],
   "source": [
    "premise_transformed.tosql(name= '', con = db_engine, if_exists= 'append', index=True)"
   ]
  },
  {
   "cell_type": "code",
   "execution_count": null,
   "metadata": {},
   "outputs": [],
   "source": [
    "county_transformed.to_sql(name='county', con=db_engine, if_exists='append', index=True) "
   ]
  },
  {
   "cell_type": "code",
   "execution_count": null,
   "metadata": {},
   "outputs": [],
   "source": [
    "db_engine.table_names()"
   ]
  },
  {
   "cell_type": "code",
   "execution_count": null,
   "metadata": {},
   "outputs": [],
   "source": [
    "[]"
   ]
  },
  {
   "cell_type": "code",
   "execution_count": null,
   "metadata": {},
   "outputs": [],
   "source": [
    "results = db_engine.execute('select * from _______')"
   ]
  }
 ],
 "metadata": {
  "kernelspec": {
   "display_name": "Python 3",
   "language": "python",
   "name": "python3"
  },
  "language_info": {
   "codemirror_mode": {
    "name": "ipython",
    "version": 3
   },
   "file_extension": ".py",
   "mimetype": "text/x-python",
   "name": "python",
   "nbconvert_exporter": "python",
   "pygments_lexer": "ipython3",
   "version": "3.7.1"
  }
 },
 "nbformat": 4,
 "nbformat_minor": 2
}
